{
 "cells": [
  {
   "attachments": {},
   "cell_type": "markdown",
   "metadata": {},
   "source": [
    "# IMPORT"
   ]
  },
  {
   "cell_type": "code",
   "execution_count": 1,
   "metadata": {},
   "outputs": [
    {
     "name": "stderr",
     "output_type": "stream",
     "text": [
      "2023-05-31 12:41:37.006781: I tensorflow/core/platform/cpu_feature_guard.cc:182] This TensorFlow binary is optimized to use available CPU instructions in performance-critical operations.\n",
      "To enable the following instructions: AVX2 FMA, in other operations, rebuild TensorFlow with the appropriate compiler flags.\n",
      "2023-05-31 12:41:38.563864: W tensorflow/compiler/tf2tensorrt/utils/py_utils.cc:38] TF-TRT Warning: Could not find TensorRT\n"
     ]
    }
   ],
   "source": [
    "import tensorflow as tf\n",
    "from tensorflow import keras\n",
    "from tensorflow.keras.models import Sequential\n",
    "from tensorflow.keras.layers import Activation, Dense\n",
    "from tensorflow.keras.optimizers import Adam\n",
    "from tensorflow.keras.metrics import categorical_crossentropy \n",
    "\n",
    "from sklearn.preprocessing import MinMaxScaler\n",
    "from sklearn.model_selection import train_test_split\n",
    "from sklearn.metrics import confusion_matrix, ConfusionMatrixDisplay\n",
    "\n",
    "import numpy as np\n",
    "import pandas as pd\n",
    "import matplotlib.pyplot as plt\n",
    "from IPython.display import clear_output\n",
    "# clear_output()\n"
   ]
  },
  {
   "cell_type": "code",
   "execution_count": 2,
   "metadata": {},
   "outputs": [
    {
     "name": "stdout",
     "output_type": "stream",
     "text": [
      "GPUs:  []\n"
     ]
    },
    {
     "name": "stderr",
     "output_type": "stream",
     "text": [
      "2023-05-31 12:42:05.309308: E tensorflow/compiler/xla/stream_executor/cuda/cuda_driver.cc:266] failed call to cuInit: CUDA_ERROR_NO_DEVICE: no CUDA-capable device is detected\n"
     ]
    }
   ],
   "source": [
    "# import os\n",
    "# os.environ[\"CUDA_VISIBLE_DEVICES\"] = \"-1\"\n",
    "\n",
    "physical_devices = tf.config.experimental.list_physical_devices('GPU')\n",
    "print('GPUs: ', physical_devices)\n",
    "# tf.config.experimental.set_memory_growth(physical_devices[0], True)"
   ]
  },
  {
   "attachments": {},
   "cell_type": "markdown",
   "metadata": {},
   "source": [
    "# TUTORIAL"
   ]
  },
  {
   "cell_type": "code",
   "execution_count": 3,
   "metadata": {},
   "outputs": [
    {
     "name": "stdout",
     "output_type": "stream",
     "text": [
      "(1680, 1) (1680, 1)\n"
     ]
    }
   ],
   "source": [
    "x = []\n",
    "y = []\n",
    "for i in range(50):\n",
    "    x.append(np.random.randint(18,65))\n",
    "    y.append(1)\n",
    "    x.append(np.random.randint(65,100))\n",
    "    y.append(0)\n",
    "for i in range(1000):\n",
    "    x.append(np.random.randint(18,65))\n",
    "    y.append(0)\n",
    "    x.append(np.random.randint(65,100))\n",
    "    y.append(1)\n",
    "\n",
    "x = np.array(x).reshape(-1,1)\n",
    "y = np.array(y).reshape(-1,1)\n",
    "\n",
    "x = MinMaxScaler((0,1)).fit_transform(x.reshape(-1,1))\n",
    "\n",
    "xTrain, xTest, yTrain, yTest = train_test_split(x,y, test_size=0.2, random_state=42, shuffle=True)\n",
    "\n",
    "# np.random.seed(42)\n",
    "# np.random.shuffle(xTrain), np.random.shuffle(yTrain)\n",
    "\n",
    "print(xTrain.shape, yTrain.shape)\n"
   ]
  },
  {
   "cell_type": "code",
   "execution_count": 4,
   "metadata": {},
   "outputs": [
    {
     "name": "stdout",
     "output_type": "stream",
     "text": [
      "Model: \"sequential_model\"\n",
      "_________________________________________________________________\n",
      " Layer (type)                Output Shape              Param #   \n",
      "=================================================================\n",
      " dense (Dense)               (None, 16)                32        \n",
      "                                                                 \n",
      " dense_1 (Dense)             (None, 32)                544       \n",
      "                                                                 \n",
      " dense_2 (Dense)             (None, 2)                 66        \n",
      "                                                                 \n",
      "=================================================================\n",
      "Total params: 642\n",
      "Trainable params: 642\n",
      "Non-trainable params: 0\n",
      "_________________________________________________________________\n",
      "Epoch 1/40\n",
      "286/286 - 2s - loss: 0.7028 - accuracy: 0.5161 - val_loss: 0.6811 - val_accuracy: 0.5635 - 2s/epoch - 6ms/step\n",
      "Epoch 2/40\n",
      "286/286 - 1s - loss: 0.6637 - accuracy: 0.6478 - val_loss: 0.6465 - val_accuracy: 0.6905 - 574ms/epoch - 2ms/step\n",
      "Epoch 3/40\n",
      "286/286 - 1s - loss: 0.6326 - accuracy: 0.6912 - val_loss: 0.6180 - val_accuracy: 0.7183 - 561ms/epoch - 2ms/step\n",
      "Epoch 4/40\n",
      "286/286 - 1s - loss: 0.6059 - accuracy: 0.7332 - val_loss: 0.5889 - val_accuracy: 0.7738 - 614ms/epoch - 2ms/step\n",
      "Epoch 5/40\n",
      "286/286 - 1s - loss: 0.5767 - accuracy: 0.7556 - val_loss: 0.5543 - val_accuracy: 0.8056 - 591ms/epoch - 2ms/step\n",
      "Epoch 6/40\n",
      "286/286 - 1s - loss: 0.5423 - accuracy: 0.8018 - val_loss: 0.5142 - val_accuracy: 0.8452 - 636ms/epoch - 2ms/step\n",
      "Epoch 7/40\n",
      "286/286 - 1s - loss: 0.5067 - accuracy: 0.8347 - val_loss: 0.4774 - val_accuracy: 0.8571 - 602ms/epoch - 2ms/step\n",
      "Epoch 8/40\n",
      "286/286 - 1s - loss: 0.4745 - accuracy: 0.8452 - val_loss: 0.4432 - val_accuracy: 0.8770 - 775ms/epoch - 3ms/step\n",
      "Epoch 9/40\n",
      "286/286 - 1s - loss: 0.4443 - accuracy: 0.8669 - val_loss: 0.4102 - val_accuracy: 0.8889 - 667ms/epoch - 2ms/step\n",
      "Epoch 10/40\n",
      "286/286 - 1s - loss: 0.4163 - accuracy: 0.8775 - val_loss: 0.3807 - val_accuracy: 0.9087 - 580ms/epoch - 2ms/step\n",
      "Epoch 11/40\n",
      "286/286 - 1s - loss: 0.3912 - accuracy: 0.8922 - val_loss: 0.3547 - val_accuracy: 0.9087 - 634ms/epoch - 2ms/step\n",
      "Epoch 12/40\n",
      "286/286 - 1s - loss: 0.3704 - accuracy: 0.8908 - val_loss: 0.3321 - val_accuracy: 0.9127 - 594ms/epoch - 2ms/step\n",
      "Epoch 13/40\n",
      "286/286 - 1s - loss: 0.3523 - accuracy: 0.8978 - val_loss: 0.3132 - val_accuracy: 0.9246 - 761ms/epoch - 3ms/step\n",
      "Epoch 14/40\n",
      "286/286 - 1s - loss: 0.3371 - accuracy: 0.8985 - val_loss: 0.2977 - val_accuracy: 0.9405 - 947ms/epoch - 3ms/step\n",
      "Epoch 15/40\n",
      "286/286 - 1s - loss: 0.3247 - accuracy: 0.9097 - val_loss: 0.2834 - val_accuracy: 0.9405 - 762ms/epoch - 3ms/step\n",
      "Epoch 16/40\n",
      "286/286 - 1s - loss: 0.3143 - accuracy: 0.9160 - val_loss: 0.2718 - val_accuracy: 0.9405 - 645ms/epoch - 2ms/step\n",
      "Epoch 17/40\n",
      "286/286 - 1s - loss: 0.3056 - accuracy: 0.9160 - val_loss: 0.2628 - val_accuracy: 0.9405 - 649ms/epoch - 2ms/step\n",
      "Epoch 18/40\n",
      "286/286 - 1s - loss: 0.2985 - accuracy: 0.9160 - val_loss: 0.2545 - val_accuracy: 0.9603 - 591ms/epoch - 2ms/step\n",
      "Epoch 19/40\n",
      "286/286 - 1s - loss: 0.2924 - accuracy: 0.9181 - val_loss: 0.2477 - val_accuracy: 0.9603 - 572ms/epoch - 2ms/step\n",
      "Epoch 20/40\n",
      "286/286 - 1s - loss: 0.2874 - accuracy: 0.9209 - val_loss: 0.2417 - val_accuracy: 0.9603 - 626ms/epoch - 2ms/step\n",
      "Epoch 21/40\n",
      "286/286 - 1s - loss: 0.2831 - accuracy: 0.9230 - val_loss: 0.2363 - val_accuracy: 0.9603 - 566ms/epoch - 2ms/step\n",
      "Epoch 22/40\n",
      "286/286 - 1s - loss: 0.2794 - accuracy: 0.9251 - val_loss: 0.2313 - val_accuracy: 0.9603 - 615ms/epoch - 2ms/step\n",
      "Epoch 23/40\n",
      "286/286 - 1s - loss: 0.2764 - accuracy: 0.9237 - val_loss: 0.2281 - val_accuracy: 0.9603 - 626ms/epoch - 2ms/step\n",
      "Epoch 24/40\n",
      "286/286 - 1s - loss: 0.2740 - accuracy: 0.9251 - val_loss: 0.2243 - val_accuracy: 0.9603 - 672ms/epoch - 2ms/step\n",
      "Epoch 25/40\n",
      "286/286 - 1s - loss: 0.2717 - accuracy: 0.9237 - val_loss: 0.2216 - val_accuracy: 0.9603 - 564ms/epoch - 2ms/step\n",
      "Epoch 26/40\n",
      "286/286 - 1s - loss: 0.2699 - accuracy: 0.9279 - val_loss: 0.2187 - val_accuracy: 0.9603 - 554ms/epoch - 2ms/step\n",
      "Epoch 27/40\n",
      "286/286 - 1s - loss: 0.2683 - accuracy: 0.9258 - val_loss: 0.2165 - val_accuracy: 0.9683 - 563ms/epoch - 2ms/step\n",
      "Epoch 28/40\n",
      "286/286 - 1s - loss: 0.2669 - accuracy: 0.9272 - val_loss: 0.2146 - val_accuracy: 0.9603 - 554ms/epoch - 2ms/step\n",
      "Epoch 29/40\n",
      "286/286 - 1s - loss: 0.2658 - accuracy: 0.9286 - val_loss: 0.2131 - val_accuracy: 0.9683 - 551ms/epoch - 2ms/step\n",
      "Epoch 30/40\n",
      "286/286 - 1s - loss: 0.2646 - accuracy: 0.9321 - val_loss: 0.2113 - val_accuracy: 0.9683 - 556ms/epoch - 2ms/step\n",
      "Epoch 31/40\n",
      "286/286 - 1s - loss: 0.2637 - accuracy: 0.9307 - val_loss: 0.2096 - val_accuracy: 0.9683 - 559ms/epoch - 2ms/step\n",
      "Epoch 32/40\n",
      "286/286 - 1s - loss: 0.2627 - accuracy: 0.9335 - val_loss: 0.2084 - val_accuracy: 0.9683 - 600ms/epoch - 2ms/step\n",
      "Epoch 33/40\n",
      "286/286 - 1s - loss: 0.2619 - accuracy: 0.9328 - val_loss: 0.2070 - val_accuracy: 0.9683 - 587ms/epoch - 2ms/step\n",
      "Epoch 34/40\n",
      "286/286 - 1s - loss: 0.2610 - accuracy: 0.9279 - val_loss: 0.2071 - val_accuracy: 0.9683 - 605ms/epoch - 2ms/step\n",
      "Epoch 35/40\n",
      "286/286 - 1s - loss: 0.2607 - accuracy: 0.9342 - val_loss: 0.2055 - val_accuracy: 0.9683 - 587ms/epoch - 2ms/step\n",
      "Epoch 36/40\n",
      "286/286 - 1s - loss: 0.2599 - accuracy: 0.9314 - val_loss: 0.2040 - val_accuracy: 0.9683 - 558ms/epoch - 2ms/step\n",
      "Epoch 37/40\n",
      "286/286 - 1s - loss: 0.2593 - accuracy: 0.9321 - val_loss: 0.2029 - val_accuracy: 0.9683 - 548ms/epoch - 2ms/step\n",
      "Epoch 38/40\n",
      "286/286 - 1s - loss: 0.2586 - accuracy: 0.9342 - val_loss: 0.2018 - val_accuracy: 0.9683 - 570ms/epoch - 2ms/step\n",
      "Epoch 39/40\n",
      "286/286 - 1s - loss: 0.2581 - accuracy: 0.9328 - val_loss: 0.2008 - val_accuracy: 0.9683 - 558ms/epoch - 2ms/step\n",
      "Epoch 40/40\n",
      "286/286 - 1s - loss: 0.2576 - accuracy: 0.9335 - val_loss: 0.2000 - val_accuracy: 0.9683 - 558ms/epoch - 2ms/step\n"
     ]
    },
    {
     "data": {
      "text/plain": [
       "<keras.callbacks.History at 0x7f6cb56eded0>"
      ]
     },
     "execution_count": 4,
     "metadata": {},
     "output_type": "execute_result"
    }
   ],
   "source": [
    "model = Sequential(name='sequential_model', layers=[\n",
    "    Dense(units=16, input_shape=(1,), activation='relu'),\n",
    "    Dense(units=32, activation='relu'),\n",
    "    Dense(units=2, activation='softmax')]\n",
    ")\n",
    "clear_output()\n",
    "model.summary()\n",
    "\n",
    "model.compile( # when compiled the model is ready to fit the data\n",
    "    optimizer=Adam(learning_rate=0.0001),\n",
    "    loss='sparse_categorical_crossentropy',\n",
    "    metrics=['accuracy']\n",
    ")\n",
    "\n",
    "model.fit(\n",
    "    x=xTrain, y=yTrain, validation_split=0.15, batch_size=5, epochs=40, shuffle=True, verbose=2\n",
    ")\n"
   ]
  },
  {
   "cell_type": "code",
   "execution_count": 5,
   "metadata": {},
   "outputs": [],
   "source": [
    "predictions = model.predict(xTest, batch_size=10, verbose=0)\n",
    "rounded_predictions = np.argmax(predictions, axis=1)"
   ]
  },
  {
   "cell_type": "code",
   "execution_count": 6,
   "metadata": {},
   "outputs": [
    {
     "data": {
      "image/png": "[encoded data removed]",
      "text/plain": [
       "<Figure size 640x480 with 2 Axes>"
      ]
     },
     "metadata": {},
     "output_type": "display_data"
    }
   ],
   "source": [
    "cm =confusion_matrix(y_true=yTest, y_pred=rounded_predictions)\n",
    "ConfusionMatrixDisplay(cm, display_labels=['no side effects', 'side effects']).plot()\n",
    "plt.show()"
   ]
  },
  {
   "attachments": {},
   "cell_type": "markdown",
   "metadata": {},
   "source": [
    "# SAVING MODELS"
   ]
  },
  {
   "cell_type": "code",
   "execution_count": 7,
   "metadata": {},
   "outputs": [],
   "source": [
    "# saving the model\n",
    "\n",
    "import os.path\n",
    "if os.path.isfile('./model_serial.h5') is False:\n",
    "    model.save('./model_serial.h5')\n",
    "\n",
    "from keras.models import load_model\n",
    "imported_model = load_model('./model_serial.h5') "
   ]
  },
  {
   "cell_type": "code",
   "execution_count": 8,
   "metadata": {},
   "outputs": [
    {
     "name": "stdout",
     "output_type": "stream",
     "text": [
      "0:00:00.249804\n",
      "0:00:00.159825\n",
      "0:00:00.107828\n",
      "0:00:00.174302\n",
      "0:00:00.127052\n",
      "0:00:00.102909\n",
      "0:00:00.102961\n",
      "0:00:00.104640\n",
      "0:00:00.090714\n"
     ]
    }
   ],
   "source": [
    "from datetime import datetime as t\n",
    "\n",
    "times=[]\n",
    "for i in range(10,100,10):\n",
    "    tzero = t.now()\n",
    "    imported_model.predict(xTest, batch_size=i)\n",
    "    tfinal = t.now()\n",
    "    times.append(tfinal-tzero)\n",
    "clear_output()\n",
    "\n",
    "for i in times: print(i)\n",
    "\n",
    "\n"
   ]
  },
  {
   "cell_type": "code",
   "execution_count": 9,
   "metadata": {},
   "outputs": [
    {
     "name": "stdout",
     "output_type": "stream",
     "text": [
      "Model: \"sequential_model\"\n",
      "_________________________________________________________________\n",
      " Layer (type)                Output Shape              Param #   \n",
      "=================================================================\n",
      " dense (Dense)               (None, 16)                32        \n",
      "                                                                 \n",
      " dense_1 (Dense)             (None, 32)                544       \n",
      "                                                                 \n",
      " dense_2 (Dense)             (None, 2)                 66        \n",
      "                                                                 \n",
      "=================================================================\n",
      "Total params: 642\n",
      "Trainable params: 642\n",
      "Non-trainable params: 0\n",
      "_________________________________________________________________\n",
      "None\n"
     ]
    }
   ],
   "source": [
    "# save just the architecture of the model, not the weights, not the modeling itself\n",
    "import json\n",
    "\n",
    "model_architecture = model.to_json()\n",
    "# print(model_architecture)\n",
    "\n",
    "with open('./model_architecture.json', 'w') as json_file:\n",
    "    json_file.write(model_architecture)\n",
    "\n",
    "with open('./model_architecture.json', 'r') as json_file:\n",
    "    model_architecture2 = json_file.read()\n",
    "\n",
    "from keras.models import model_from_json\n",
    "\n",
    "json_model = model_from_json(model_architecture2)\n",
    "\n",
    "print(json_model.summary())"
   ]
  },
  {
   "cell_type": "code",
   "execution_count": null,
   "metadata": {},
   "outputs": [],
   "source": []
  }
 ],
 "metadata": {
  "kernelspec": {
   "display_name": "dlis",
   "language": "python",
   "name": "python3"
  },
  "language_info": {
   "codemirror_mode": {
    "name": "ipython",
    "version": 3
   },
   "file_extension": ".py",
   "mimetype": "text/x-python",
   "name": "python",
   "nbconvert_exporter": "python",
   "pygments_lexer": "ipython3",
   "version": "3.11.3"
  },
  "orig_nbformat": 4
 },
 "nbformat": 4,
 "nbformat_minor": 2
}
